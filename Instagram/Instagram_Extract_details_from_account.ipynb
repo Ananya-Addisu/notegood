{
 "cells": [
  {
   "cell_type": "markdown",
   "id": "rocky-cardiff",
   "metadata": {
    "papermill": {},
    "tags": []
   },
   "source": [
    "<img width=\"8%\" alt=\"Instagram.png\" src=\"https://raw.githubusercontent.com/jupyter-naas/awesome-notebooks/master/.github/assets/logos/Instagram.png\" style=\"border-radius: 15%\">"
   ]
  },
  {
   "cell_type": "markdown",
   "id": "judicial-headline",
   "metadata": {
    "papermill": {},
    "tags": []
   },
   "source": [
    "# Instagram - Extract details from account\n",
    "<a href=\"https://bit.ly/3JyWIk6\">Give Feedback</a> | <a href=\"https://github.com/jupyter-naas/awesome-notebooks/issues/new?assignees=&labels=bug&template=bug_report.md&title=Instagram+-+Extract+details+from+account:+Error+short+description\">Bug report</a>"
   ]
  },
  {
   "cell_type": "markdown",
   "id": "1cef8cab-e783-4589-b2c4-c21ee380c773",
   "metadata": {
    "papermill": {},
    "tags": []
   },
   "source": [
    "**Tags:** #instagram #snippet #content"
   ]
  },
  {
   "cell_type": "markdown",
   "id": "naas-author",
   "metadata": {
    "papermill": {},
    "tags": [
     "naas"
    ]
   },
   "source": [
    "**Author:** [Varsha Kumar](https://www.linkedin.com/in/varsha-kumar-590466305/)"
   ]
  },
  {
   "cell_type": "markdown",
   "id": "8edddd04-a2af-47f7-82aa-a9108cdcd3d4",
   "metadata": {
    "papermill": {},
    "tags": []
   },
   "source": [
    "**Last update:** 2024-07-09 (Created: 2024-07-04)"
   ]
  },
  {
   "cell_type": "markdown",
   "id": "naas-description",
   "metadata": {
    "papermill": {},
    "tags": [
     "description"
    ]
   },
   "source": [
    "**Description:** This notebook allows users to extract details from an Instagram account."
   ]
  },
  {
   "cell_type": "markdown",
   "id": "88ed8bb2-2694-4848-a3ef-afc0f4e65e07",
   "metadata": {
    "papermill": {},
    "tags": []
   },
   "source": [
    "### How to retrive API key with apify"
   ]
  },
  {
   "cell_type": "markdown",
   "id": "0fca1344-877b-417d-94f0-1f024a029523",
   "metadata": {
    "papermill": {},
    "tags": []
   },
   "source": [
    "1. Go to https://apify.com.\n",
    "2. Click \"Sign up for free\" and use your google account to sign up.\n",
    "3. Once your account has been created, navigate to \"Settings\" on the left panel of the screen.\n",
    "4. Here you will click on the tab labeled \"Integrations\" where your personal API token that was automatically generated with sign up will be.\n",
    "5. Copy that token and use it to extract data!"
   ]
  },
  {
   "cell_type": "markdown",
   "id": "input_cell",
   "metadata": {
    "papermill": {},
    "tags": []
   },
   "source": [
    "## Input"
   ]
  },
  {
   "cell_type": "markdown",
   "id": "import_cell",
   "metadata": {
    "papermill": {},
    "tags": []
   },
   "source": [
    "### Import libraries"
   ]
  },
  {
   "cell_type": "code",
   "execution_count": 1,
   "id": "d40e70c0-a388-417b-a50f-c50bb82cc0b3",
   "metadata": {
    "papermill": {},
    "tags": []
   },
   "outputs": [],
   "source": [
    "import requests\n",
    "import pandas as pd\n",
    "import json"
   ]
  },
  {
   "cell_type": "markdown",
   "id": "5c3c12ca-5f3e-411a-aa54-c2b4b612a91d",
   "metadata": {
    "execution": {
     "iopub.execute_input": "2022-03-17T10:12:43.371273Z",
     "iopub.status.busy": "2022-03-17T10:12:43.371011Z",
     "iopub.status.idle": "2022-03-17T10:12:43.374551Z",
     "shell.execute_reply": "2022-03-17T10:12:43.373882Z",
     "shell.execute_reply.started": "2022-03-17T10:12:43.371208Z"
    },
    "papermill": {},
    "tags": []
   },
   "source": [
    "### Setup variables\n",
    "- `apify_token`: personal token apify creates to access data\n",
    "- `instagram_profile_url`: link to the instagram profile"
   ]
  },
  {
   "cell_type": "code",
   "execution_count": 2,
   "id": "ce903236-60d1-4087-a31e-9321f2df6112",
   "metadata": {
    "papermill": {},
    "tags": []
   },
   "outputs": [],
   "source": [
    "apify_token = \"apify_api_gXWnLEPiE7wC8ALUwQkJ0QcdbuQzU8xxxxxx\"\n",
    "instagram_profile_url = \"https://www.instagram.com/naaslife/\"\n",
    "output_csv1 = f\"{instagram_profile_url.split('https://www.instagram.com/')[1].replace('/', '_')}instagram_account.csv\"\n",
    "output_csv2 = f\"{instagram_profile_url.split('https://www.instagram.com/')[1].replace('/', '_')}instagram_posts.csv\""
   ]
  },
  {
   "cell_type": "markdown",
   "id": "model_cell",
   "metadata": {
    "papermill": {},
    "tags": []
   },
   "source": [
    "## Model"
   ]
  },
  {
   "cell_type": "markdown",
   "id": "5e04b21e-8ae9-4081-acc4-73f01fc39f3b",
   "metadata": {
    "papermill": {},
    "tags": []
   },
   "source": [
    "### Scrape instagram data"
   ]
  },
  {
   "cell_type": "code",
   "execution_count": 3,
   "id": "legislative-taiwan",
   "metadata": {
    "papermill": {},
    "tags": []
   },
   "outputs": [],
   "source": [
    "def get_instagram_data(apify_token, instagram_profile_url):\n",
    "    # Extract the username from the profile URL\n",
    "    username = instagram_profile_url.split('/')[-2]\n",
    "    \n",
    "    # Define the Apify API URL for the Instagram Profile Scraper\n",
    "    api_url = \"https://api.apify.com/v2/acts/apify~instagram-profile-scraper/run-sync-get-dataset-items\"\n",
    "\n",
    "    # Define the payload with the necessary parameters\n",
    "    payload = {\n",
    "        \"usernames\": [username],  # Pass the username as a list\n",
    "        \"proxyConfig\": {\n",
    "            \"useApifyProxy\": True\n",
    "        }\n",
    "    }\n",
    "\n",
    "    # Define the headers with the Apify API token\n",
    "    headers = {\n",
    "        \"Authorization\": f\"Bearer {apify_token}\",\n",
    "        \"Content-Type\": \"application/json\"\n",
    "    }\n",
    "\n",
    "    # Make the request to the Apify API\n",
    "    response = requests.post(api_url, json=payload, headers=headers)\n",
    "\n",
    "    # Extract the JSON data from the response\n",
    "    data = response.json()\n",
    "    \n",
    "    return data\n",
    "\n",
    "# Make posts dataframe structure\n",
    "def get_posts(\n",
    "    ownerUsername,\n",
    "    ownerId,\n",
    "    pid,\n",
    "    post_type,\n",
    "    caption,\n",
    "    hashtags,\n",
    "    mentions,\n",
    "    url,\n",
    "    comments_count,\n",
    "    likes_count,\n",
    "    timestamp\n",
    "):\n",
    "    return {\n",
    "        \"OWNER_USERNAME\": ownerUsername,\n",
    "        \"OWNER_ID\": ownerId,\n",
    "        \"ID\": pid,\n",
    "        \"POST_TYPE\": post_type,\n",
    "        \"CAPTION\": caption,\n",
    "        \"HASHTAGS\": hashtags,\n",
    "        \"MENTIONS\": mentions,\n",
    "        \"URL\": url,\n",
    "        \"COMMENTS_COUNT\": comments_count,\n",
    "        \"LIKES_COUNT\": likes_count,\n",
    "        \"TIMESTAMP\": timestamp\n",
    "    }\n",
    "    \n",
    "profile_data = get_instagram_data(apify_token, instagram_profile_url)"
   ]
  },
  {
   "cell_type": "markdown",
   "id": "output_cell",
   "metadata": {
    "papermill": {},
    "tags": []
   },
   "source": [
    "## Output"
   ]
  },
  {
   "cell_type": "markdown",
   "id": "display_cell",
   "metadata": {
    "papermill": {},
    "tags": []
   },
   "source": [
    "### Account dataframe"
   ]
  },
  {
   "cell_type": "code",
   "execution_count": 4,
   "id": "c7ac65a4-dd93-43c4-8090-c86a2aa28898",
   "metadata": {
    "papermill": {},
    "tags": []
   },
   "outputs": [],
   "source": [
    "data1 = []\n",
    "\n",
    "data1 = [{\n",
    "        \"ID\": profile_data[0]['id'],\n",
    "        \"USERNAME\": profile_data[0]['username'],\n",
    "        \"URL\": profile_data[0]['url'],\n",
    "        \"BIO\": profile_data[0]['biography'],\n",
    "        \"FOLLOWERS\": profile_data[0]['followersCount'],\n",
    "        \"FOLLOWING\": profile_data[0]['followsCount'],\n",
    "        \"PRIVATE\": profile_data[0]['private'],\n",
    "        \"POST_COUNT\": profile_data[0]['postsCount']\n",
    "}]\n",
    "\n",
    "df1 = pd.DataFrame(data1)\n",
    "df1"
   ]
  },
  {
   "cell_type": "markdown",
   "id": "636d22d3-beac-4de3-9ea8-6232e9cdcc6c",
   "metadata": {
    "papermill": {},
    "tags": []
   },
   "source": [
    "### Save first dataframe to csv"
   ]
  },
  {
   "cell_type": "code",
   "execution_count": 5,
   "id": "be26e796-6c38-4152-a0b8-49f51b617a6f",
   "metadata": {
    "papermill": {},
    "tags": []
   },
   "outputs": [],
   "source": [
    "df1.to_csv(output_csv1, index=False)"
   ]
  },
  {
   "cell_type": "markdown",
   "id": "d2f54970-5afc-45d8-ae52-dfb98f280c74",
   "metadata": {
    "papermill": {},
    "tags": []
   },
   "source": [
    "### Posts dataframe"
   ]
  },
  {
   "cell_type": "code",
   "execution_count": 6,
   "id": "4472174c-fa1d-49a4-8dfe-b16d3ad39b4c",
   "metadata": {
    "papermill": {},
    "tags": []
   },
   "outputs": [],
   "source": [
    "data2 = []\n",
    "\n",
    "for post in profile_data[0]['latestPosts']:\n",
    "    data_post = get_posts(\n",
    "            post[\"ownerUsername\"],\n",
    "            post[\"ownerId\"],\n",
    "            post[\"id\"],\n",
    "            post[\"type\"],\n",
    "            post[\"caption\"],\n",
    "            post[\"hashtags\"],\n",
    "            post[\"mentions\"],\n",
    "            post[\"url\"],\n",
    "            post[\"commentsCount\"],\n",
    "            post[\"likesCount\"],\n",
    "            post[\"timestamp\"]\n",
    "        )\n",
    "    data2.append(data_post)\n",
    "        \n",
    "df2 = pd.DataFrame(data2)\n",
    "df2"
   ]
  },
  {
   "cell_type": "markdown",
   "id": "32d3baf0-0abc-4eca-96c8-092fc1f132b7",
   "metadata": {
    "papermill": {},
    "tags": []
   },
   "source": [
    "### Save second dataframe to csv"
   ]
  },
  {
   "cell_type": "code",
   "execution_count": 7,
   "id": "29bd55e8-47d6-4ee4-a233-eabf047f4beb",
   "metadata": {
    "papermill": {},
    "tags": []
   },
   "outputs": [],
   "source": [
    "df2.to_csv(output_csv2, index=False)"
   ]
  },
  {
   "cell_type": "code",
   "execution_count": null,
   "id": "9e655e0a-ee1f-4d56-a198-0f38d30036e9",
   "metadata": {
    "papermill": {},
    "tags": []
   },
   "outputs": [],
   "source": []
  }
 ],
 "metadata": {
  "kernelspec": {
   "display_name": "Python 3",
   "language": "python",
   "name": "python3"
  },
  "language_info": {
   "codemirror_mode": {
    "name": "ipython",
    "version": 3
   },
   "file_extension": ".py",
   "mimetype": "text/x-python",
   "name": "python",
   "nbconvert_exporter": "python",
   "pygments_lexer": "ipython3",
   "version": "3.9.6"
  },
  "naas": {
   "notebook_id": "ec9d735629743f9f1b723557aefae41a5479b3f61b71db8cd8cb60024c18934a",
   "notebook_path": "Instagram/Instagram_Extract_details_from_account.ipynb"
  },
  "papermill": {
   "default_parameters": {},
   "environment_variables": {},
   "parameters": {},
   "version": "2.3.3"
  },
  "toc-autonumbering": false
 },
 "nbformat": 4,
 "nbformat_minor": 5
}